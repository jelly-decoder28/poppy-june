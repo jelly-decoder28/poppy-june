{
  "nbformat": 4,
  "nbformat_minor": 0,
  "metadata": {
    "colab": {
      "provenance": [],
      "authorship_tag": "ABX9TyP66r6ps844XwtO9Om8L5FV",
      "include_colab_link": true
    },
    "kernelspec": {
      "name": "python3",
      "display_name": "Python 3"
    },
    "language_info": {
      "name": "python"
    },
    "widgets": {
      "application/vnd.jupyter.widget-state+json": {
        "cc78d94172c4437283d395c1df826148": {
          "model_module": "@jupyter-widgets/controls",
          "model_name": "DropdownModel",
          "model_module_version": "1.5.0",
          "state": {
            "_dom_classes": [],
            "_model_module": "@jupyter-widgets/controls",
            "_model_module_version": "1.5.0",
            "_model_name": "DropdownModel",
            "_options_labels": [
              "Click on the menu to see the jokes",
              "What did the ocean say to the beach?",
              "Why couldn’t the shellfish farmer go for a run?",
              "What does a doctor tell you when you have to give blood?"
            ],
            "_view_count": null,
            "_view_module": "@jupyter-widgets/controls",
            "_view_module_version": "1.5.0",
            "_view_name": "DropdownView",
            "description": "Start:",
            "description_tooltip": null,
            "disabled": false,
            "index": 3,
            "layout": "IPY_MODEL_26ceec4bf2884f2a8aa1ea6a9380641d",
            "style": "IPY_MODEL_dde26913c06c4c409c3a6d43fc7a65c3"
          }
        },
        "26ceec4bf2884f2a8aa1ea6a9380641d": {
          "model_module": "@jupyter-widgets/base",
          "model_name": "LayoutModel",
          "model_module_version": "1.2.0",
          "state": {
            "_model_module": "@jupyter-widgets/base",
            "_model_module_version": "1.2.0",
            "_model_name": "LayoutModel",
            "_view_count": null,
            "_view_module": "@jupyter-widgets/base",
            "_view_module_version": "1.2.0",
            "_view_name": "LayoutView",
            "align_content": null,
            "align_items": null,
            "align_self": null,
            "border": null,
            "bottom": null,
            "display": null,
            "flex": null,
            "flex_flow": null,
            "grid_area": null,
            "grid_auto_columns": null,
            "grid_auto_flow": null,
            "grid_auto_rows": null,
            "grid_column": null,
            "grid_gap": null,
            "grid_row": null,
            "grid_template_areas": null,
            "grid_template_columns": null,
            "grid_template_rows": null,
            "height": null,
            "justify_content": null,
            "justify_items": null,
            "left": null,
            "margin": null,
            "max_height": null,
            "max_width": null,
            "min_height": null,
            "min_width": null,
            "object_fit": null,
            "object_position": null,
            "order": null,
            "overflow": null,
            "overflow_x": null,
            "overflow_y": null,
            "padding": null,
            "right": null,
            "top": null,
            "visibility": null,
            "width": null
          }
        },
        "dde26913c06c4c409c3a6d43fc7a65c3": {
          "model_module": "@jupyter-widgets/controls",
          "model_name": "DescriptionStyleModel",
          "model_module_version": "1.5.0",
          "state": {
            "_model_module": "@jupyter-widgets/controls",
            "_model_module_version": "1.5.0",
            "_model_name": "DescriptionStyleModel",
            "_view_count": null,
            "_view_module": "@jupyter-widgets/base",
            "_view_module_version": "1.2.0",
            "_view_name": "StyleView",
            "description_width": ""
          }
        },
        "bc39c6f9bdda4d9a90fc30307bec6108": {
          "model_module": "@jupyter-widgets/controls",
          "model_name": "DropdownModel",
          "model_module_version": "1.5.0",
          "state": {
            "_dom_classes": [],
            "_model_module": "@jupyter-widgets/controls",
            "_model_module_version": "1.5.0",
            "_model_name": "DropdownModel",
            "_options_labels": [
              "Click on the menu to see the joke punchline",
              "Nothing. Ocean just waved.",
              "The farmer could not pull a mussel!",
              "B Positive!"
            ],
            "_view_count": null,
            "_view_module": "@jupyter-widgets/controls",
            "_view_module_version": "1.5.0",
            "_view_name": "DropdownView",
            "description": "Punch:",
            "description_tooltip": null,
            "disabled": false,
            "index": 3,
            "layout": "IPY_MODEL_826686d740b341e39cdf6b18dbaf3f06",
            "style": "IPY_MODEL_3865c62276154d36a473849becd40c02"
          }
        },
        "826686d740b341e39cdf6b18dbaf3f06": {
          "model_module": "@jupyter-widgets/base",
          "model_name": "LayoutModel",
          "model_module_version": "1.2.0",
          "state": {
            "_model_module": "@jupyter-widgets/base",
            "_model_module_version": "1.2.0",
            "_model_name": "LayoutModel",
            "_view_count": null,
            "_view_module": "@jupyter-widgets/base",
            "_view_module_version": "1.2.0",
            "_view_name": "LayoutView",
            "align_content": null,
            "align_items": null,
            "align_self": null,
            "border": null,
            "bottom": null,
            "display": null,
            "flex": null,
            "flex_flow": null,
            "grid_area": null,
            "grid_auto_columns": null,
            "grid_auto_flow": null,
            "grid_auto_rows": null,
            "grid_column": null,
            "grid_gap": null,
            "grid_row": null,
            "grid_template_areas": null,
            "grid_template_columns": null,
            "grid_template_rows": null,
            "height": null,
            "justify_content": null,
            "justify_items": null,
            "left": null,
            "margin": null,
            "max_height": null,
            "max_width": null,
            "min_height": null,
            "min_width": null,
            "object_fit": null,
            "object_position": null,
            "order": null,
            "overflow": null,
            "overflow_x": null,
            "overflow_y": null,
            "padding": null,
            "right": null,
            "top": null,
            "visibility": null,
            "width": null
          }
        },
        "3865c62276154d36a473849becd40c02": {
          "model_module": "@jupyter-widgets/controls",
          "model_name": "DescriptionStyleModel",
          "model_module_version": "1.5.0",
          "state": {
            "_model_module": "@jupyter-widgets/controls",
            "_model_module_version": "1.5.0",
            "_model_name": "DescriptionStyleModel",
            "_view_count": null,
            "_view_module": "@jupyter-widgets/base",
            "_view_module_version": "1.2.0",
            "_view_name": "StyleView",
            "description_width": ""
          }
        },
        "5449423d7884433b82ed5a27b46a4c0e": {
          "model_module": "@jupyter-widgets/controls",
          "model_name": "FloatSliderModel",
          "model_module_version": "1.5.0",
          "state": {
            "_dom_classes": [],
            "_model_module": "@jupyter-widgets/controls",
            "_model_module_version": "1.5.0",
            "_model_name": "FloatSliderModel",
            "_view_count": null,
            "_view_module": "@jupyter-widgets/controls",
            "_view_module_version": "1.5.0",
            "_view_name": "FloatSliderView",
            "continuous_update": true,
            "description": "How funny is the joke? ",
            "description_tooltip": null,
            "disabled": false,
            "layout": "IPY_MODEL_596366d8d40f435796dae14155b89eb4",
            "max": 10,
            "min": 1,
            "orientation": "horizontal",
            "readout": true,
            "readout_format": ".2f",
            "step": 1,
            "style": "IPY_MODEL_602547f5a7b44d9c807481f03b0a5c30",
            "value": 5
          }
        },
        "596366d8d40f435796dae14155b89eb4": {
          "model_module": "@jupyter-widgets/base",
          "model_name": "LayoutModel",
          "model_module_version": "1.2.0",
          "state": {
            "_model_module": "@jupyter-widgets/base",
            "_model_module_version": "1.2.0",
            "_model_name": "LayoutModel",
            "_view_count": null,
            "_view_module": "@jupyter-widgets/base",
            "_view_module_version": "1.2.0",
            "_view_name": "LayoutView",
            "align_content": null,
            "align_items": null,
            "align_self": null,
            "border": null,
            "bottom": null,
            "display": null,
            "flex": null,
            "flex_flow": null,
            "grid_area": null,
            "grid_auto_columns": null,
            "grid_auto_flow": null,
            "grid_auto_rows": null,
            "grid_column": null,
            "grid_gap": null,
            "grid_row": null,
            "grid_template_areas": null,
            "grid_template_columns": null,
            "grid_template_rows": null,
            "height": null,
            "justify_content": null,
            "justify_items": null,
            "left": null,
            "margin": null,
            "max_height": null,
            "max_width": null,
            "min_height": null,
            "min_width": null,
            "object_fit": null,
            "object_position": null,
            "order": null,
            "overflow": null,
            "overflow_x": null,
            "overflow_y": null,
            "padding": null,
            "right": null,
            "top": null,
            "visibility": null,
            "width": null
          }
        },
        "602547f5a7b44d9c807481f03b0a5c30": {
          "model_module": "@jupyter-widgets/controls",
          "model_name": "SliderStyleModel",
          "model_module_version": "1.5.0",
          "state": {
            "_model_module": "@jupyter-widgets/controls",
            "_model_module_version": "1.5.0",
            "_model_name": "SliderStyleModel",
            "_view_count": null,
            "_view_module": "@jupyter-widgets/base",
            "_view_module_version": "1.2.0",
            "_view_name": "StyleView",
            "description_width": "",
            "handle_color": null
          }
        },
        "525fba92fed84ab4b29d5b90db52a88b": {
          "model_module": "@jupyter-widgets/controls",
          "model_name": "TextModel",
          "model_module_version": "1.5.0",
          "state": {
            "_dom_classes": [],
            "_model_module": "@jupyter-widgets/controls",
            "_model_module_version": "1.5.0",
            "_model_name": "TextModel",
            "_view_count": null,
            "_view_module": "@jupyter-widgets/controls",
            "_view_module_version": "1.5.0",
            "_view_name": "TextView",
            "continuous_update": true,
            "description": "Twist: ",
            "description_tooltip": null,
            "disabled": false,
            "layout": "IPY_MODEL_9100aa1211054d29aafffef6a34de618",
            "placeholder": "Enter a twist!",
            "style": "IPY_MODEL_0bc32c567eea4376886e09c35b96c289",
            "value": "But some people have negative blood!"
          }
        },
        "9100aa1211054d29aafffef6a34de618": {
          "model_module": "@jupyter-widgets/base",
          "model_name": "LayoutModel",
          "model_module_version": "1.2.0",
          "state": {
            "_model_module": "@jupyter-widgets/base",
            "_model_module_version": "1.2.0",
            "_model_name": "LayoutModel",
            "_view_count": null,
            "_view_module": "@jupyter-widgets/base",
            "_view_module_version": "1.2.0",
            "_view_name": "LayoutView",
            "align_content": null,
            "align_items": null,
            "align_self": null,
            "border": null,
            "bottom": null,
            "display": null,
            "flex": null,
            "flex_flow": null,
            "grid_area": null,
            "grid_auto_columns": null,
            "grid_auto_flow": null,
            "grid_auto_rows": null,
            "grid_column": null,
            "grid_gap": null,
            "grid_row": null,
            "grid_template_areas": null,
            "grid_template_columns": null,
            "grid_template_rows": null,
            "height": null,
            "justify_content": null,
            "justify_items": null,
            "left": null,
            "margin": null,
            "max_height": null,
            "max_width": null,
            "min_height": null,
            "min_width": null,
            "object_fit": null,
            "object_position": null,
            "order": null,
            "overflow": null,
            "overflow_x": null,
            "overflow_y": null,
            "padding": null,
            "right": null,
            "top": null,
            "visibility": null,
            "width": null
          }
        },
        "0bc32c567eea4376886e09c35b96c289": {
          "model_module": "@jupyter-widgets/controls",
          "model_name": "DescriptionStyleModel",
          "model_module_version": "1.5.0",
          "state": {
            "_model_module": "@jupyter-widgets/controls",
            "_model_module_version": "1.5.0",
            "_model_name": "DescriptionStyleModel",
            "_view_count": null,
            "_view_module": "@jupyter-widgets/base",
            "_view_module_version": "1.2.0",
            "_view_name": "StyleView",
            "description_width": ""
          }
        },
        "8dc7c2f410b14f2a9f7e793ec01d9c93": {
          "model_module": "@jupyter-widgets/controls",
          "model_name": "ButtonModel",
          "model_module_version": "1.5.0",
          "state": {
            "_dom_classes": [],
            "_model_module": "@jupyter-widgets/controls",
            "_model_module_version": "1.5.0",
            "_model_name": "ButtonModel",
            "_view_count": null,
            "_view_module": "@jupyter-widgets/controls",
            "_view_module_version": "1.5.0",
            "_view_name": "ButtonView",
            "button_style": "success",
            "description": "Generate Final Joke",
            "disabled": false,
            "icon": "",
            "layout": "IPY_MODEL_a2bb9ed300e643f096c6967845a26499",
            "style": "IPY_MODEL_038df3ddcb2c4159825e33d3d6337774",
            "tooltip": "Click me to see a message"
          }
        },
        "a2bb9ed300e643f096c6967845a26499": {
          "model_module": "@jupyter-widgets/base",
          "model_name": "LayoutModel",
          "model_module_version": "1.2.0",
          "state": {
            "_model_module": "@jupyter-widgets/base",
            "_model_module_version": "1.2.0",
            "_model_name": "LayoutModel",
            "_view_count": null,
            "_view_module": "@jupyter-widgets/base",
            "_view_module_version": "1.2.0",
            "_view_name": "LayoutView",
            "align_content": null,
            "align_items": null,
            "align_self": null,
            "border": null,
            "bottom": null,
            "display": null,
            "flex": null,
            "flex_flow": null,
            "grid_area": null,
            "grid_auto_columns": null,
            "grid_auto_flow": null,
            "grid_auto_rows": null,
            "grid_column": null,
            "grid_gap": null,
            "grid_row": null,
            "grid_template_areas": null,
            "grid_template_columns": null,
            "grid_template_rows": null,
            "height": null,
            "justify_content": null,
            "justify_items": null,
            "left": null,
            "margin": null,
            "max_height": null,
            "max_width": null,
            "min_height": null,
            "min_width": null,
            "object_fit": null,
            "object_position": null,
            "order": null,
            "overflow": null,
            "overflow_x": null,
            "overflow_y": null,
            "padding": null,
            "right": null,
            "top": null,
            "visibility": null,
            "width": null
          }
        },
        "038df3ddcb2c4159825e33d3d6337774": {
          "model_module": "@jupyter-widgets/controls",
          "model_name": "ButtonStyleModel",
          "model_module_version": "1.5.0",
          "state": {
            "_model_module": "@jupyter-widgets/controls",
            "_model_module_version": "1.5.0",
            "_model_name": "ButtonStyleModel",
            "_view_count": null,
            "_view_module": "@jupyter-widgets/base",
            "_view_module_version": "1.2.0",
            "_view_name": "StyleView",
            "button_color": null,
            "font_weight": ""
          }
        }
      }
    }
  },
  "cells": [
    {
      "cell_type": "markdown",
      "metadata": {
        "id": "view-in-github",
        "colab_type": "text"
      },
      "source": [
        "<a href=\"https://colab.research.google.com/github/jelly-decoder28/poppy-june/blob/main/JokeCreator.ipynb\" target=\"_parent\"><img src=\"https://colab.research.google.com/assets/colab-badge.svg\" alt=\"Open In Colab\"/></a>"
      ]
    },
    {
      "cell_type": "markdown",
      "source": [
        "Use ipywidgets to build an interactive interface with:\n",
        "*   A dropdown menu for joke setups and punchlines.\n",
        "*   A slider to rate the joke’s funniness (1 to 10).\n",
        "*   A text input box for adding a custom twist.\n",
        "*   A button to display the final joke.  \n",
        "\n",
        "Create multiple jokes using different combinations of setups, punchlines, and twists.\n",
        "\n",
        "Ensure all widgets function as intended."
      ],
      "metadata": {
        "id": "Q98HwpqtueYu"
      }
    },
    {
      "cell_type": "code",
      "execution_count": 26,
      "metadata": {
        "id": "txbHxaluqYO9",
        "colab": {
          "base_uri": "https://localhost:8080/",
          "height": 492,
          "referenced_widgets": [
            "cc78d94172c4437283d395c1df826148",
            "26ceec4bf2884f2a8aa1ea6a9380641d",
            "dde26913c06c4c409c3a6d43fc7a65c3",
            "bc39c6f9bdda4d9a90fc30307bec6108",
            "826686d740b341e39cdf6b18dbaf3f06",
            "3865c62276154d36a473849becd40c02",
            "5449423d7884433b82ed5a27b46a4c0e",
            "596366d8d40f435796dae14155b89eb4",
            "602547f5a7b44d9c807481f03b0a5c30",
            "525fba92fed84ab4b29d5b90db52a88b",
            "9100aa1211054d29aafffef6a34de618",
            "0bc32c567eea4376886e09c35b96c289",
            "8dc7c2f410b14f2a9f7e793ec01d9c93",
            "a2bb9ed300e643f096c6967845a26499",
            "038df3ddcb2c4159825e33d3d6337774"
          ]
        },
        "outputId": "3cc187be-d74c-49ec-f22e-baa3c9d0c290"
      },
      "outputs": [
        {
          "output_type": "display_data",
          "data": {
            "text/plain": [
              "Dropdown(description='Start:', options=('Click on the menu to see the jokes', 'What did the ocean say to the b…"
            ],
            "application/vnd.jupyter.widget-view+json": {
              "version_major": 2,
              "version_minor": 0,
              "model_id": "cc78d94172c4437283d395c1df826148"
            }
          },
          "metadata": {}
        },
        {
          "output_type": "display_data",
          "data": {
            "text/plain": [
              "Dropdown(description='Punch:', options=('Click on the menu to see the joke punchline', 'Nothing. Ocean just wa…"
            ],
            "application/vnd.jupyter.widget-view+json": {
              "version_major": 2,
              "version_minor": 0,
              "model_id": "bc39c6f9bdda4d9a90fc30307bec6108"
            }
          },
          "metadata": {}
        },
        {
          "output_type": "display_data",
          "data": {
            "text/plain": [
              "FloatSlider(value=1.0, description='How funny is the joke? ', max=10.0, min=1.0, step=1.0)"
            ],
            "application/vnd.jupyter.widget-view+json": {
              "version_major": 2,
              "version_minor": 0,
              "model_id": "5449423d7884433b82ed5a27b46a4c0e"
            }
          },
          "metadata": {}
        },
        {
          "output_type": "display_data",
          "data": {
            "text/plain": [
              "Text(value='', description='Twist: ', placeholder='Enter a twist!')"
            ],
            "application/vnd.jupyter.widget-view+json": {
              "version_major": 2,
              "version_minor": 0,
              "model_id": "525fba92fed84ab4b29d5b90db52a88b"
            }
          },
          "metadata": {}
        },
        {
          "output_type": "display_data",
          "data": {
            "text/plain": [
              "Button(button_style='success', description='Generate Final Joke', style=ButtonStyle(), tooltip='Click me to se…"
            ],
            "application/vnd.jupyter.widget-view+json": {
              "version_major": 2,
              "version_minor": 0,
              "model_id": "8dc7c2f410b14f2a9f7e793ec01d9c93"
            }
          },
          "metadata": {}
        },
        {
          "output_type": "stream",
          "name": "stdout",
          "text": [
            "Keep clicking on me to generate more jokes!\n",
            "\n",
            "Final joke:What did the ocean say to the beach? Nothing. Ocean just waved. both were lit under the sun\n",
            "\n",
            "Funny Level: 2.0\n",
            "\n",
            "Final joke:Why couldn’t the shellfish farmer go for a run? The farmer could not pull a mussel! But the farmer accidentally cracked one!\n",
            "\n",
            "Funny Level: 2.0\n",
            "\n",
            "Final joke:Why couldn’t the shellfish farmer go for a run? The farmer could not pull a mussel! But the farmer accidentally cracked one!\n",
            "\n",
            "Funny Level: 5.0\n",
            "\n",
            "Final joke:What does a doctor tell you when you have to give blood? B Positive! But some people have negative blood!\n",
            "\n",
            "Funny Level: 5.0\n",
            "\n"
          ]
        }
      ],
      "source": [
        "#Use drop down menu, slider, textbox, and button\n",
        "\n",
        "import ipywidgets as widgets #import the widgets library\n",
        "from IPython.display import display #import the display library\n",
        "\n",
        "#set up the dropdown menus using .dropdown option\n",
        "set_up_jokestart = widgets.Dropdown(\n",
        "    options = ['Click on the menu to see the jokes','What did the ocean say to the beach?', 'Why couldn’t the shellfish farmer go for a run?', 'What does a doctor tell you when you have to give blood?'],\n",
        "    value = 'Click on the menu to see the jokes',\n",
        "    description = 'Start:'\n",
        ")\n",
        "\n",
        "display(set_up_jokestart)\n",
        "\n",
        "set_up_jokepunch = widgets.Dropdown(\n",
        "    options = ['Click on the menu to see the joke punchline','Nothing. Ocean just waved.', 'The farmer could not pull a mussel!', 'B Positive!'],\n",
        "    value = 'Click on the menu to see the joke punchline',\n",
        "    description = 'Punch:'\n",
        ")\n",
        "\n",
        "display(set_up_jokepunch)\n",
        "\n",
        "#The slider uses dot Float Slider\n",
        "funny_level_slider = widgets.FloatSlider(\n",
        "    value = 1.0,\n",
        "    min = 1.0,\n",
        "    max = 10.0,\n",
        "    step = 1.0,\n",
        "    description = \"How funny is the joke? \"\n",
        ")\n",
        "\n",
        "display(funny_level_slider)\n",
        "\n",
        "#Create the plot twist with the .text box\n",
        "custom_textbox = widgets.Text(\n",
        "    placeholder = \"Enter a twist!\",\n",
        "    description = \"Twist: \"\n",
        ")\n",
        "\n",
        "display(custom_textbox)\n",
        "\n",
        "#Generate the final joke with the button!\n",
        "create_button = widgets.Button(\n",
        "    description = 'Generate Final Joke',\n",
        "    button_style = 'success',\n",
        "    tooltip = 'Click me to see a message',\n",
        ")\n",
        "\n",
        "display(create_button)\n",
        "print(\"Keep clicking on me to generate more jokes!\")\n",
        "print(\"\")\n",
        "\n",
        "\n",
        "def joke_generator(b):\n",
        "  starting_joke = set_up_jokestart.value\n",
        "  punchingline = set_up_jokepunch.value\n",
        "  twist = custom_textbox.value\n",
        "  how_funny = funny_level_slider.value\n",
        "  print(f\"Final joke:{starting_joke} {punchingline} {twist}\")\n",
        "  print(\"\")\n",
        "  print(\"Funny Level:\", how_funny)\n",
        "  print(\"\")\n",
        "\n",
        "create_button.on_click(joke_generator)\n",
        "\n",
        "\n",
        "def clear_widget():\n",
        "  set_up_jokestart.value = 'Click on the menu to see the jokes'\n",
        "  set_up_jokepunch.value = 'Click on the menu to see the joke punches'\n",
        "  funny_level_slider.value = 1.0\n",
        "  custom_textbox.value = ''\n",
        "\n",
        "\n",
        "\n"
      ]
    }
  ]
}