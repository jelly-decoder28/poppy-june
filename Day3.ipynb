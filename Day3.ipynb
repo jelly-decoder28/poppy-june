{
  "nbformat": 4,
  "nbformat_minor": 0,
  "metadata": {
    "colab": {
      "provenance": [],
      "authorship_tag": "ABX9TyNnJ+s8UQIHuMg/AgPzzydf",
      "include_colab_link": true
    },
    "kernelspec": {
      "name": "python3",
      "display_name": "Python 3"
    },
    "language_info": {
      "name": "python"
    }
  },
  "cells": [
    {
      "cell_type": "markdown",
      "metadata": {
        "id": "view-in-github",
        "colab_type": "text"
      },
      "source": [
        "<a href=\"https://colab.research.google.com/github/jelly-decoder28/poppy-june/blob/main/Day3.ipynb\" target=\"_parent\"><img src=\"https://colab.research.google.com/assets/colab-badge.svg\" alt=\"Open In Colab\"/></a>"
      ]
    },
    {
      "cell_type": "markdown",
      "source": [
        "FizzBuzz Game\n",
        "\n",
        "For all multiples of 2: \"Fizz\", all multiples of 3: \"Buzz\", multiples of both: \"FizzBuzz\", and neither: print num\n"
      ],
      "metadata": {
        "id": "HWYbPg-B_tm8"
      }
    },
    {
      "cell_type": "code",
      "execution_count": null,
      "metadata": {
        "colab": {
          "base_uri": "https://localhost:8080/"
        },
        "id": "b1MgwAYA_YOr",
        "outputId": "6d30afbe-12a2-459b-ee39-f97f436a764b"
      },
      "outputs": [
        {
          "output_type": "stream",
          "name": "stdout",
          "text": [
            "Enter the Fizz Number:2\n",
            "Enter the Buzz Number:3\n",
            "Enter the Start Number:4\n",
            "Enter the End Number:10\n",
            "4\n",
            "5\n",
            "Fizz\n",
            "7\n",
            "8\n",
            "Buzz\n",
            "10\n"
          ]
        }
      ],
      "source": [
        "#Get inputs from the user\n",
        "fizz = int(input(\"Enter the Fizz Number:\"))\n",
        "buzz = int(input(\"Enter the Buzz Number:\"))\n",
        "start = int(input(\"Enter the Start Number:\"))\n",
        "end = int(input(\"Enter the End Number:\"))\n",
        "\n",
        "#start function\n",
        "def fizzbuzz(fizz, buzz, start, end):\n",
        "  for i in range (start, end+1):\n",
        "    #mod is the remainder\n",
        "    if i%fizz == 0 and i%buzz == 0:\n",
        "      print(\"Fizz\")\n",
        "    elif i%buzz == 0:\n",
        "      print(\"Buzz\")\n",
        "    else:\n",
        "      print(i)\n",
        "#call the function at the end\n",
        "fizzbuzz(fizz, buzz, start,end)"
      ]
    },
    {
      "cell_type": "markdown",
      "source": [
        "int, float, str --> data structure\n",
        "--> let's look into lists and dictionaries"
      ],
      "metadata": {
        "id": "WzfZPPrFBlke"
      }
    },
    {
      "cell_type": "code",
      "source": [
        "# List of Mangas\n",
        "mangas = [\"Sengoku Youko\", \"Let's Play\",\"Laughing Under the Clouds\"]\n",
        "print(\"Mangas:\", mangas)\n",
        "#accessing individual elements of a list\n",
        "print(\"Winter Break Manga:\", mangas[0])\n",
        "print(\"Spring Semester Manga Pt. 1:\", mangas[1])\n",
        "print(\"Spring Semester Manga Pt. 2:\", mangas[2])\n",
        "\n",
        "mangas[1] = \"The Summer Hikaru Died\"\n",
        "print(mangas)\n",
        "\n",
        "print(\"Manga Reading List: \")\n",
        "for firstmanga in mangas:\n",
        "  print (firstmanga)\n",
        "\n",
        "mangas.sort()\n",
        "print(\"sorted mangas:\", mangas)\n",
        "\n",
        "mangas.reverse()\n",
        "print(\"sorted mangas in reverse list:\", mangas)"
      ],
      "metadata": {
        "colab": {
          "base_uri": "https://localhost:8080/"
        },
        "id": "XG_pN8sMAwR0",
        "outputId": "d76c057c-7b53-41d7-943a-32e024401cb2"
      },
      "execution_count": null,
      "outputs": [
        {
          "output_type": "stream",
          "name": "stdout",
          "text": [
            "Mangas: ['Sengoku Youko', \"Let's Play\", 'Laughing Under the Clouds']\n",
            "Winter Break Manga: Sengoku Youko\n",
            "Spring Semester Manga Pt. 1: Let's Play\n",
            "Spring Semester Manga Pt. 2: Laughing Under the Clouds\n",
            "['Sengoku Youko', 'The Summer Hikaru Died', 'Laughing Under the Clouds']\n",
            "Manga Reading List: \n",
            "Sengoku Youko\n",
            "The Summer Hikaru Died\n",
            "Laughing Under the Clouds\n",
            "sorted mangas: ['Laughing Under the Clouds', 'Sengoku Youko', 'The Summer Hikaru Died']\n",
            "sorted mangas in reverse list: ['The Summer Hikaru Died', 'Sengoku Youko', 'Laughing Under the Clouds']\n"
          ]
        }
      ]
    },
    {
      "cell_type": "markdown",
      "source": [
        "Combine Two Lists:"
      ],
      "metadata": {
        "id": "2zRHV6-6EQQD"
      }
    },
    {
      "cell_type": "code",
      "source": [
        "Kids_mangas = [\"My Neighbor Totoro\", \"Princess Mononoke\", \"Ponyo\"]\n",
        "Teen_mangas = [\"Skip to Loafer\"]\n",
        "all_my_mangas = Kids_mangas + Teen_mangas\n",
        "print(\"Combined mangas list:\", all_my_mangas)\n",
        "\n",
        "del all_my_mangas[1]\n",
        "print(all_my_mangas)\n",
        "\n"
      ],
      "metadata": {
        "colab": {
          "base_uri": "https://localhost:8080/"
        },
        "id": "NBqC0PgnCCM8",
        "outputId": "20bfbeed-36df-45c0-c225-040651655034"
      },
      "execution_count": null,
      "outputs": [
        {
          "output_type": "stream",
          "name": "stdout",
          "text": [
            "Combined mangas list: ['My Neighbor Totoro', 'Princess Mononoke', 'Ponyo', 'Skip to Loafer']\n",
            "['My Neighbor Totoro', 'Ponyo', 'Skip to Loafer']\n"
          ]
        }
      ]
    },
    {
      "cell_type": "markdown",
      "source": [
        "Intro to dictionaries"
      ],
      "metadata": {
        "id": "eW_in4O-Fvwf"
      }
    }
  ]
}