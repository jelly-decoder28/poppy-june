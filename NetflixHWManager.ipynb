{
  "nbformat": 4,
  "nbformat_minor": 0,
  "metadata": {
    "colab": {
      "provenance": [],
      "authorship_tag": "ABX9TyPdjGtjm7Nc5rkjCC76fRKe",
      "include_colab_link": true
    },
    "kernelspec": {
      "name": "python3",
      "display_name": "Python 3"
    },
    "language_info": {
      "name": "python"
    }
  },
  "cells": [
    {
      "cell_type": "markdown",
      "metadata": {
        "id": "view-in-github",
        "colab_type": "text"
      },
      "source": [
        "<a href=\"https://colab.research.google.com/github/jelly-decoder28/poppy-june/blob/intro_to_AI-programming-course!/NetflixHWManager.ipynb\" target=\"_parent\"><img src=\"https://colab.research.google.com/assets/colab-badge.svg\" alt=\"Open In Colab\"/></a>"
      ]
    },
    {
      "cell_type": "markdown",
      "source": [
        "Create a Netflix “browsing” system!\n",
        "Create a function called browse_by_genre( )\n",
        "We must browse by taking advantage of the key-value system\n",
        "Ask for input from the user for a genre\n",
        "Iterate through the dictionary’s values and see if any movie genres match what was asked for by the user. If so, print it out!\n",
        "If none were found, print out that none were found.\n",
        "Create a Netflix menu function\n",
        "Print out the below options that the user can choose\n",
        "1. Display all movies,\n",
        "2. Add new movie\n",
        "3. Browse by genre,\n",
        "4. Browse by year and\n",
        "5. Exit\n",
        "Based on user input choice, call the appropriate function (display_movies is already shown).\n"
      ],
      "metadata": {
        "id": "g0qOoFKm_ypp"
      }
    },
    {
      "cell_type": "code",
      "execution_count": 24,
      "metadata": {
        "colab": {
          "base_uri": "https://localhost:8080/"
        },
        "id": "plwc5fTF_uZ1",
        "outputId": "60496506-7cad-4bd6-fcae-69f1edddc508"
      },
      "outputs": [
        {
          "output_type": "stream",
          "name": "stdout",
          "text": [
            "\n",
            "WELCOME TO XmasFlix: the place to binge on Xmas specials!\n",
            "1. Display the available Xmas movie specials\n",
            "2. Add new movie\n",
            "3. Browse by genre\n",
            "4. Browse by year\n",
            "5. EXIT\n",
            "Enter your choice: 2\n",
            "Enter the Xmas movie title:Moon walker\n",
            "Enter the Genre: horro\n",
            "Enter the Rating: 2\n",
            "Enter the Year Released: 2006\n",
            "Enter the flagging option: rated r\n",
            "Moon walker has been added to the Xmas specials!\n"
          ]
        }
      ],
      "source": [
        "class Movie:\n",
        "  movies_in_xmasflix = {\n",
        "    \"Home Alone\":{\"Genre\":\"Comedy\", \"Rating\": 8.0, \"Year Released\": 1990, \"Flagged\": \"PG-13\"},\n",
        "    \"Dear Santa\": {\"Genre\":\"Comedy\", \"Rating\": 7.0, \"Year Released\": 2024, \"Flagged\": \"PG-13\"},\n",
        "    \"While You Were Sleeping\":{\"Genre\":\"Romantic Comedy\", \"Rating\": 10.0, \"Year Released\": 1995, \"Flagged\": \"PG-13\"},\n",
        "    \"Grinch\":{\"Genre\":\"Fantasy Cartoon\", \"Rating\": 7.5, \"Year Released\": 2000, \"Flagged\": \"PG-13\"},\n",
        "    \"Christmas Carol\": {\"Genre\":\"Novella\", \"Rating\": 8.5, \"Year Released\": 2009, \"Flagged\": \"PG-13\"},\n",
        "    \"Silent Night\": {\"Genre\":\"Horror\", \"Rating\": 6, \"Year Released\": 2021, \"Flagged\":\"MA\"},\n",
        "    \"to all a good night\": {\"Genre\":\"Horror\", \"Rating\":5, \"Year Released\": 2024, \"Flagged\":\"Rated R\"}}\n",
        "\n",
        "\n",
        "print(\"\\nWELCOME TO XmasFlix: the place to binge on Xmas specials!\")\n",
        "print(\"1. Display the available Xmas movie specials\")\n",
        "print(\"2. Add new movie\")\n",
        "print(\"3. Browse by genre\")\n",
        "print(\"4. Browse by year\")\n",
        "print(\"5. EXIT\")\n",
        "choice = input(\"Enter your choice: \")\n",
        "\n",
        "if choice == \"1\":\n",
        "  display_movies_in_xmasflix()\n",
        "elif choice == \"2\":\n",
        "  add_Xmas_movies()\n",
        "elif choice == \"3\":\n",
        "  browse_by_genre()\n",
        "elif choice == \"4\":\n",
        "  browse_by_year()\n",
        "elif choice == \"5\":\n",
        "  print(\"Enjoy your Xmas watching spree! Bye!\")\n",
        "else:\n",
        "  print(\"Invalid choice! Try again.\")\n",
        "\n",
        "\n",
        "\n",
        "def add_Xmas_movies():\n",
        "  title = input(\"Enter the Xmas movie title:\")\n",
        "  genre = input(\"Enter the Genre: \")\n",
        "  rating = float(input(\"Enter the Rating: \"))\n",
        "  year_released = int(input(\"Enter the Year Released: \"))\n",
        "  flagged = input(\"Enter the flagging option: \")\n",
        "  movies_in_xmasflix[title] = {\"Genre\": genre, \"Rating\": rating, \"Year Released\": year_released, \"Flagged\": flagged}\n",
        "  print(f\"{title} has been added to the Xmas specials!\")\n",
        "\n",
        "def display_movies_in_xmasflix():\n",
        "  print(\"\\nAll Movies on XmasFlix:\")\n",
        "  for title, details in movies_in_xmasflix.items():\n",
        "    print(f\"{title} - Genre: {details['Genre']}, Rating:{details['Rating']}, Year Released:{details['Year Released']}, Flagged:{details['Flagged']}\")\n",
        "\n",
        "\n",
        "def browse_by_genre():\n",
        "    genre = input(\"Enter the genre you enjoy the most or want to explore!: \").strip().lower()\n",
        "    found_genre = False\n",
        "    print(f\"\\nMovies in genre '{genre}':\")\n",
        "    for title, details in movies_in_xmasflix.items():\n",
        "        if details[\"Genre\"].strip().lower() == genre.lower():\n",
        "            print(f\"{title} - Rating: {details['Rating']} - Year Released: {details['Year Released']} - Flagged: {details['Flagged']}\")\n",
        "            found_genre = True\n",
        "    if not found_genre:\n",
        "        print(\"Genre not available! The available genres are Novella, Romantic Comedy, Comedy, Fantasy Cartoon, and Horror. You can add a new genre with the add movie option!\")\n",
        "\n",
        "def browse_by_year():\n",
        "    year_released = input(\"Enter the year released: \").strip()\n",
        "    found_year = False\n",
        "    print(f\"\\nMovies released in the year '{year_released}':\")\n",
        "    for title, details in movies_in_xmasflix.items():\n",
        "        if str(details[\"Year Released\"]) == year_released:\n",
        "            print(f\"{title} - Genre: {details['Genre']} - Rating: {details['Rating']} - Flagged: {details['Flagged']}\")\n",
        "            found_year = True\n",
        "    if not found_year:\n",
        "        print(\"No movies found for this release year. However, you can add them!\")\n"
      ]
    }
  ]
}