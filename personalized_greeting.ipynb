{
  "nbformat": 4,
  "nbformat_minor": 0,
  "metadata": {
    "colab": {
      "provenance": [],
      "authorship_tag": "ABX9TyOl7EjFEz7r+bqi9KbD3qvd",
      "include_colab_link": true
    },
    "kernelspec": {
      "name": "python3",
      "display_name": "Python 3"
    },
    "language_info": {
      "name": "python"
    }
  },
  "cells": [
    {
      "cell_type": "markdown",
      "metadata": {
        "id": "view-in-github",
        "colab_type": "text"
      },
      "source": [
        "<a href=\"https://colab.research.google.com/github/jelly-decoder28/poppy-june/blob/intro_to_AI-programming-course!/personalized_greeting.ipynb\" target=\"_parent\"><img src=\"https://colab.research.google.com/assets/colab-badge.svg\" alt=\"Open In Colab\"/></a>"
      ]
    },
    {
      "cell_type": "code",
      "execution_count": null,
      "metadata": {
        "id": "hjXJA6MQrxrs"
      },
      "outputs": [],
      "source": [
        "#This program introduces name and hobby (Variables)"
      ]
    },
    {
      "cell_type": "code",
      "source": [
        "name = input(\"What is your good name? \")\n",
        "hobby = input(\"What is your favorite passtime?\")\n",
        "print(f\"Hi {name}, I am excited to explore this wonderful and exciting {hobby} with you!\")"
      ],
      "metadata": {
        "colab": {
          "base_uri": "https://localhost:8080/"
        },
        "id": "x_2RHweAsDsP",
        "outputId": "fe665dd0-01fc-45c0-c910-13670ef8fc98"
      },
      "execution_count": null,
      "outputs": [
        {
          "output_type": "stream",
          "name": "stdout",
          "text": [
            "What is your good name? praju\n",
            "What is your favorite passtime?dance\n",
            "Hi praju, I am excited to explore this wonderful and exciting dance with you!\n"
          ]
        }
      ]
    },
    {
      "cell_type": "code",
      "source": [
        "print(\"NASA Pre-Launch Checklist: \")\n",
        "for step in range(1,6):\n",
        "  print(f\"Step {step}: \", end=\"\")\n",
        "  if step == 1:\n",
        "    print(\"Pack space-friendly food, toileteries,etc. \")\n",
        "  elif step == 2:\n",
        "    print(\"Secure and tighten spacesuit and anti-gravity equipment\")\n",
        "  elif step == 3:\n",
        "    print(\"Ensure the spacecraft system works efficiently\")\n",
        "  elif step == 4:\n",
        "    print(\"Call MISSION CONTROL for the start of launch\")\n",
        "  elif step == 5:\n",
        "    print(\"HOORAY!! COUNTDOWN FOR NASA LAUNCH BEGINS HEHE\")\n",
        "    for count in range (10,0,-1):\n",
        "      print(count)\n",
        "    print(\"Liftoff! 😆 EUREKA THRU THE AIR 🚀\")"
      ],
      "metadata": {
        "colab": {
          "base_uri": "https://localhost:8080/"
        },
        "id": "MT6v68zNsHlt",
        "outputId": "d2469155-8d51-4f16-fa5e-36ae6274e3b2"
      },
      "execution_count": null,
      "outputs": [
        {
          "output_type": "stream",
          "name": "stdout",
          "text": [
            "NASA Pre-Launch Checklist: \n",
            "Step 1: Pack space-friendly food, toileteries,etc. \n",
            "Step 2: Secure and tighten spacesuit and anti-gravity equipment\n",
            "Step 3: Ensure the spacecraft system works efficiently\n",
            "Step 4: Call MISSION CONTROL for the start of launch\n",
            "Step 5: HOORAY!! COUNTDOWN FOR NASA LAUNCH BEGINS HEHE\n",
            "10\n",
            "9\n",
            "8\n",
            "7\n",
            "6\n",
            "5\n",
            "4\n",
            "3\n",
            "2\n",
            "1\n",
            "Liftoff! 😆 EUREKA THRU THE AIR 🚀\n"
          ]
        }
      ]
    },
    {
      "cell_type": "code",
      "source": [
        "\n",
        "task_to_complete = int(input(\"Enter the number of tasks to be completed:\"))\n",
        "task_number = 1\n",
        "\n",
        "print(\"Austronaut's ISS Itinerary\")\n",
        "while task_number <= task_to_complete:\n",
        "  print(f\"Task {task_number}:\", end=\"\")\n",
        "  if task_number == 1:\n",
        "    print(\"Check and maintain oxygen levels.\")\n",
        "  elif task_number == 2:\n",
        "    print(\"Recheck if plants can grow in anti-gravity conditions.\")\n",
        "  elif task_number == 3:\n",
        "    print(\"Make sure the mechanics of the space-craft are well executed through consistent sample trials.\")\n",
        "  elif task_number == 4:\n",
        "    print(\"Communicate with mission control.\")\n",
        "  elif task_number == 5:\n",
        "    print(\"Take a spacewalk to inspect station.\")\n",
        "  elif task_number > 5:\n",
        "    print(\"You have completed ALL the tasks! Take a rest before takeoff WOOOHOOO!!\")\n",
        "    break\n",
        "  task_number +=1\n"
      ],
      "metadata": {
        "colab": {
          "base_uri": "https://localhost:8080/"
        },
        "id": "w0qoNMVZuEFa",
        "outputId": "5428c6b1-81a1-4f20-f86e-ab062252d398"
      },
      "execution_count": null,
      "outputs": [
        {
          "output_type": "stream",
          "name": "stdout",
          "text": [
            "Enter the number of tasks to be completed:12\n",
            "Austronaut's ISS Itinerary\n",
            "Task 1:Check and maintain oxygen levels.\n",
            "Task 2:Recheck if plants can grow in anti-gravity conditions.\n",
            "Task 3:Make sure the mechanics of the space-craft are well executed through consistent sample trials.\n",
            "Task 4:Communicate with mission control.\n",
            "Task 5:Take a spacewalk to inspect station.\n",
            "Task 6:You have completed ALL the tasks! Take a rest before takeoff WOOOHOOO!!\n"
          ]
        }
      ]
    }
  ]
}