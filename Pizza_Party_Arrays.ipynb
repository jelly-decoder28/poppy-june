{
  "nbformat": 4,
  "nbformat_minor": 0,
  "metadata": {
    "colab": {
      "provenance": [],
      "authorship_tag": "ABX9TyPKw7KbNRTJXUPBebNtsU/t",
      "include_colab_link": true
    },
    "kernelspec": {
      "name": "python3",
      "display_name": "Python 3"
    },
    "language_info": {
      "name": "python"
    }
  },
  "cells": [
    {
      "cell_type": "markdown",
      "metadata": {
        "id": "view-in-github",
        "colab_type": "text"
      },
      "source": [
        "<a href=\"https://colab.research.google.com/github/jelly-decoder28/poppy-june/blob/main/Pizza_Party_Arrays.ipynb\" target=\"_parent\"><img src=\"https://colab.research.google.com/assets/colab-badge.svg\" alt=\"Open In Colab\"/></a>"
      ]
    },
    {
      "cell_type": "code",
      "execution_count": 2,
      "metadata": {
        "id": "2r0bffBo3Wmn",
        "colab": {
          "base_uri": "https://localhost:8080/"
        },
        "outputId": "644578d8-1579-4b1a-c586-976ebe9ca336"
      },
      "outputs": [
        {
          "output_type": "stream",
          "name": "stdout",
          "text": [
            "Pizza Party Array consisting of slices left: [6 3 8 2 5 4]\n"
          ]
        }
      ],
      "source": [
        "import numpy as np\n",
        "pizza_slices = np.array ([6, 3, 8, 2, 5, 4])  # Slices left for Pizza 1, Pizza 2, Pizza 3, and so on.\n",
        "print(\"Pizza Party Array consisting of slices left:\", pizza_slices)"
      ]
    },
    {
      "cell_type": "markdown",
      "source": [
        "1. Accessing Individual Values:\n",
        "How many slices are left for Pizza 1?\n",
        "How many slices are left for Pizza 4 (use both positive and negative indexing)?"
      ],
      "metadata": {
        "id": "BDeFsrQ73f82"
      }
    },
    {
      "cell_type": "code",
      "source": [
        "print(\"\\nAccessing Individual Elements:\")\n",
        "print(\"Slice left in Pizza 1?\", pizza_slices[0])\n",
        "print(\"Slice left in Pizza 4?(positive indexing)\", pizza_slices[3])\n",
        "print(\"Slice left in Pizza 4?(negative indexing)\", pizza_slices[-3])"
      ],
      "metadata": {
        "id": "-f_gqK1y3m6O",
        "colab": {
          "base_uri": "https://localhost:8080/"
        },
        "outputId": "d96b2da6-15f3-442a-81ff-6fd01d5191a6"
      },
      "execution_count": 12,
      "outputs": [
        {
          "output_type": "stream",
          "name": "stdout",
          "text": [
            "\n",
            "Accessing Individual Elements:\n",
            "Slice left in Pizza 1? 6\n",
            "Slice left in Pizza 4?(positive indexing) 2\n",
            "Slice left in Pizza 4?(negative indexing) 2\n"
          ]
        }
      ]
    },
    {
      "cell_type": "markdown",
      "source": [
        "2. Slicing Subsets of Pizzas: Get the number of slices left for the first 3 pizzas. Get the number of slices left for the last 2 pizzas."
      ],
      "metadata": {
        "id": "BvqJ_FKe3nSq"
      }
    },
    {
      "cell_type": "code",
      "source": [
        "print(\"\\nSlicing Subsets of Pizzas:\")\n",
        "print(\"First 3 pizzas (slice left):\", pizza_slices[:3])\n",
        "print(\"Last 2 pizzas (slices left):\", pizza_slices[4:])"
      ],
      "metadata": {
        "id": "o1NI25Op3rdk",
        "colab": {
          "base_uri": "https://localhost:8080/"
        },
        "outputId": "0ed2f352-6589-4738-d06d-ad32fec8daf3"
      },
      "execution_count": 4,
      "outputs": [
        {
          "output_type": "stream",
          "name": "stdout",
          "text": [
            "\n",
            "Slicing Subsets of Pizzas:\n",
            "First 3 pizzas (slice left): [6 3 8]\n",
            "Last 2 pizzas (slices left): [5 4]\n"
          ]
        }
      ]
    },
    {
      "cell_type": "markdown",
      "source": [
        "3. Boolean Masking (Filtering): Find which pizzas have more than 4 slices left. Find which pizzas have 3 slices or fewer left. Find all pizzas with an odd number of slices left."
      ],
      "metadata": {
        "id": "5dUAYKJw3tCF"
      }
    },
    {
      "cell_type": "code",
      "source": [
        "print(\"\\nBoolean Masking (Filtering Elements):\")\n",
        "mask = pizza_slices > 4\n",
        "greater_than_4 = pizza_slices[mask]\n",
        "print(\"Pizzas with greater than 4 slices:\", greater_than_4)\n",
        "mask_2 = pizza_slices <= 3\n",
        "fewerorequalto3_pizza_slices = pizza_slices[mask_2]\n",
        "print(\"Pizzas with Slices Fewer or equal to 3:\", fewerorequalto3_pizza_slices)\n",
        "odd_nummber_pizza_slices = pizza_slices[pizza_slices % 2 == 1]\n",
        "print(\"Pizzas with Odd Slice Numbers:\", odd_nummber_pizza_slices)"
      ],
      "metadata": {
        "id": "RDc2zSY43vX1",
        "colab": {
          "base_uri": "https://localhost:8080/"
        },
        "outputId": "1b85c9b0-610d-4113-c968-3c830aa6e8d7"
      },
      "execution_count": 7,
      "outputs": [
        {
          "output_type": "stream",
          "name": "stdout",
          "text": [
            "\n",
            "Boolean Masking (Filtering Elements):\n",
            "Pizzas with greater than 4 slices: [6 8 5]\n",
            "Pizzas with Slices Fewer or equal to 3: [3 2]\n",
            "Pizzas with Odd Slice Numbers: [3 5]\n"
          ]
        }
      ]
    },
    {
      "cell_type": "markdown",
      "source": [
        "4. Fancy Indexing: Use fancy indexing to get the slices left for Pizza 1 and Pizza 3."
      ],
      "metadata": {
        "id": "b-ZQwUjN3wsN"
      }
    },
    {
      "cell_type": "code",
      "source": [
        "print(\"\\nFancy Indexing (Specific Indices):\")\n",
        "specific_indices_pizzaslices = pizza_slices[[0, 2]]\n",
        "print(\"Slices Left for Pizza 1 and 3:\", specific_indices_pizzaslices)"
      ],
      "metadata": {
        "id": "gejbvfeN3ywh",
        "colab": {
          "base_uri": "https://localhost:8080/"
        },
        "outputId": "1aed6fcd-358c-49b7-b6a1-f2ee7b97a177"
      },
      "execution_count": 9,
      "outputs": [
        {
          "output_type": "stream",
          "name": "stdout",
          "text": [
            "\n",
            "Fancy Indexing (Specific Indices):\n",
            "Slices Left for Pizza 1 and 3: [6 8]\n"
          ]
        }
      ]
    },
    {
      "cell_type": "markdown",
      "source": [
        "5. Pizza Statistics: What is the maximum number of slices left in any pizza? (Which pizza has the most slices?)\n",
        "What is the minimum number of slices left? (Which pizza has the fewest slices?)\n",
        "What is the average number of slices left per pizza? How many total slices are left across all pizzas?"
      ],
      "metadata": {
        "id": "pejDm4cq3zIv"
      }
    },
    {
      "cell_type": "code",
      "source": [
        "print(\"\\nPizza Statistics:\")\n",
        "max_pizzaslices = np.max(pizza_slices)\n",
        "print(\"Most number of pizza slices:\", max_pizzaslices)\n",
        "min_pizzaslices = np.min(pizza_slices)\n",
        "print(\"Least number of pizza slices:\", min_pizzaslices)\n",
        "average_pizzaslices = np.mean(pizza_slices)\n",
        "print(\"Average number of pizza slices:\", average_pizzaslices)\n",
        "total_pizzaslices = np.sum(pizza_slices)\n",
        "print(\"Total number of pizza slices:\", total_pizzaslices)"
      ],
      "metadata": {
        "id": "nzw3vmUx31qx",
        "colab": {
          "base_uri": "https://localhost:8080/"
        },
        "outputId": "1ef2d2e0-404a-4c59-e1ea-ad064f06d9fa"
      },
      "execution_count": 10,
      "outputs": [
        {
          "output_type": "stream",
          "name": "stdout",
          "text": [
            "\n",
            "Pizza Statistics:\n",
            "Most number of pizza slices: 8\n",
            "Least number of pizza slices: 2\n",
            "Average number of pizza slices: 4.666666666666667\n",
            "Total number of pizza slices: 28\n"
          ]
        }
      ]
    },
    {
      "cell_type": "markdown",
      "source": [
        "6. Reverse the order of the pizzas (show the array in reverse). Find the number of slices for every even-indexed pizza. Check if there are any pizzas that have exactly 0 slices left.\n"
      ],
      "metadata": {
        "id": "khDZdlYp35-Q"
      }
    },
    {
      "cell_type": "code",
      "source": [
        "print(\"Reversed pizza order (step -1):\", pizza_slices[::-1])"
      ],
      "metadata": {
        "id": "Fmu11Wwj39Me",
        "colab": {
          "base_uri": "https://localhost:8080/"
        },
        "outputId": "53688508-b338-4109-8472-92360b6d62e3"
      },
      "execution_count": 11,
      "outputs": [
        {
          "output_type": "stream",
          "name": "stdout",
          "text": [
            "Reversed pizza order (step -1): [4 5 2 8 3 6]\n"
          ]
        }
      ]
    }
  ]
}