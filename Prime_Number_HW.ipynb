{
  "nbformat": 4,
  "nbformat_minor": 0,
  "metadata": {
    "colab": {
      "provenance": [],
      "authorship_tag": "ABX9TyPrRBY0JZjMVujrFdTOU/+I",
      "include_colab_link": true
    },
    "kernelspec": {
      "name": "python3",
      "display_name": "Python 3"
    },
    "language_info": {
      "name": "python"
    }
  },
  "cells": [
    {
      "cell_type": "markdown",
      "metadata": {
        "id": "view-in-github",
        "colab_type": "text"
      },
      "source": [
        "<a href=\"https://colab.research.google.com/github/jelly-decoder28/poppy-june/blob/intro_to_AI-programming-course!/Prime_Number_HW.ipynb\" target=\"_parent\"><img src=\"https://colab.research.google.com/assets/colab-badge.svg\" alt=\"Open In Colab\"/></a>"
      ]
    },
    {
      "cell_type": "code",
      "execution_count": 11,
      "metadata": {
        "colab": {
          "base_uri": "https://localhost:8080/"
        },
        "id": "RIm2sWTbMrW3",
        "outputId": "efebbc04-71fd-4a24-dcc7-b82e9a9890ac"
      },
      "outputs": [
        {
          "output_type": "stream",
          "name": "stdout",
          "text": [
            "Enter a number from 1 through 20: -2\n",
            "Invalid input! Please enter a number within the range 1 through 20.\n",
            "Enter a number from 1 through 20: 3\n",
            "3 is a prime number!\n",
            "Enter a number from 1 through 20: 4\n",
            "4 is NOT a prime number.\n"
          ]
        }
      ],
      "source": [
        "import math\n",
        "def isPrime(n):\n",
        "  if n < 2: #divisors only after and includes 2\n",
        "    return False\n",
        "  for i in range(2,int(math.sqrt(n)) + 1): #separate n<2 from for loop as that separately checks for prime numbers\n",
        "    if n % i == 0:\n",
        "      return False\n",
        "  return True\n",
        "\n",
        "while True:\n",
        "  entered_num = int(input(\"Enter a number from 1 through 20: \"))\n",
        "\n",
        "  if entered_num < 1 or entered_num > 20:\n",
        "    print(\"Invalid input! Please enter a number within the range 1 through 20.\")\n",
        "\n",
        "    continue\n",
        "\n",
        "\n",
        "  if isPrime(entered_num):\n",
        "    print(f\"{entered_num} is a prime number!\")\n",
        "  else:\n",
        "    print(f\"{entered_num} is NOT a prime number.\")\n",
        "\n",
        "    break"
      ]
    }
  ]
}