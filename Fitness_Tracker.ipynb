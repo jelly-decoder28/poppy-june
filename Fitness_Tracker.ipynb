{
  "nbformat": 4,
  "nbformat_minor": 0,
  "metadata": {
    "colab": {
      "provenance": [],
      "authorship_tag": "ABX9TyMd+jYrnmlGL84YehtigW6i",
      "include_colab_link": true
    },
    "kernelspec": {
      "name": "python3",
      "display_name": "Python 3"
    },
    "language_info": {
      "name": "python"
    }
  },
  "cells": [
    {
      "cell_type": "markdown",
      "metadata": {
        "id": "view-in-github",
        "colab_type": "text"
      },
      "source": [
        "<a href=\"https://colab.research.google.com/github/jelly-decoder28/poppy-june/blob/main/Fitness_Tracker.ipynb\" target=\"_parent\"><img src=\"https://colab.research.google.com/assets/colab-badge.svg\" alt=\"Open In Colab\"/></a>"
      ]
    },
    {
      "cell_type": "code",
      "execution_count": 2,
      "metadata": {
        "id": "L_W4mapaeeto"
      },
      "outputs": [],
      "source": [
        "def show_menu():\n",
        "  print(\"My Fitness Tracker:\")\n",
        "  print(\"1. Total Step for the week\")\n",
        "  print(\"2. Average Calories Burned\")\n",
        "  print(\"3. Count well-rested days(>= 7 hrs of sleep)\")\n",
        "  print(\"4. \")\n",
        "  print(\"5. View Weekend Steps\")\n",
        "  print(\"6. Identify the best fitness\")\n",
        "  print(\"7. EXIT\")"
      ]
    },
    {
      "cell_type": "code",
      "source": [],
      "metadata": {
        "id": "3JWrH1XdjBVa"
      },
      "execution_count": null,
      "outputs": []
    },
    {
      "cell_type": "code",
      "source": [
        "def average_calories():\n",
        "  avg_calories = np.mean(calories * 100)"
      ],
      "metadata": {
        "id": "vi98r3EGgzG-"
      },
      "execution_count": null,
      "outputs": []
    },
    {
      "cell_type": "code",
      "source": [
        "def well_rested_days():\n",
        "  well_rested = np.sum(sleep_hours >= 7)\n",
        "  print(\"Days with 7+ hours of sleep = {well_rested} days\")"
      ],
      "metadata": {
        "id": "My3IiDtzge-d"
      },
      "execution_count": null,
      "outputs": []
    },
    {
      "cell_type": "code",
      "source": [
        "def specific_day_steps():\n",
        "  days = [\"Monday\",\"Tuesday\",\"Wednesday\",\"Thursday\",\"Friday\",\"Saturday\",\"Sunday\"]\n",
        "  day_number = int(input(\"Enter the day number 1 for Monday and so on\"))\n",
        "  if 0 <= day_number < len(steps):\n",
        "    print(f\"Steps on {days[day_number]}: {steps[day_number]} steps\")\n",
        "  else:\n",
        "    print(\"INVALID day number! Please enter a number between 1 and 7\")"
      ],
      "metadata": {
        "id": "0gvmO2Vgf8Rr"
      },
      "execution_count": null,
      "outputs": []
    },
    {
      "cell_type": "markdown",
      "source": [
        "temp (-1) gets the last or temp (0) or temp [0, 3] or temp (-2) gives last one"
      ],
      "metadata": {
        "id": "0GbfXzHqhm4d"
      }
    },
    {
      "cell_type": "code",
      "source": [
        "def weekend_steps():\n",
        "  weekend = steps[-2]\n",
        "  print(f\"Weekend steps: Saturday - {weekend[0]} steps, Sunday - {weekend[1]} steps\")"
      ],
      "metadata": {
        "id": "pEzkjKlUhcyo"
      },
      "execution_count": null,
      "outputs": []
    },
    {
      "cell_type": "code",
      "source": [
        "def best_fitness_day():\n",
        "  best_day_index = np.argmax(steps)\n",
        "  days = [\"Mondays\",\"Tuesday\",\"Wednesday\",\"Thursday\",\"Friday\",\"Saturday\",\"Sunday\"]"
      ],
      "metadata": {
        "id": "96CmAAXSilMa"
      },
      "execution_count": null,
      "outputs": []
    },
    {
      "cell_type": "code",
      "source": [
        "show_menu()"
      ],
      "metadata": {
        "id": "dUYy2VEyjRXM"
      },
      "execution_count": null,
      "outputs": []
    }
  ]
}