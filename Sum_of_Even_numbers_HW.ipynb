{
  "nbformat": 4,
  "nbformat_minor": 0,
  "metadata": {
    "colab": {
      "provenance": [],
      "authorship_tag": "ABX9TyOQ/StcOmqVljs+dgJJRJ4r",
      "include_colab_link": true
    },
    "kernelspec": {
      "name": "python3",
      "display_name": "Python 3"
    },
    "language_info": {
      "name": "python"
    }
  },
  "cells": [
    {
      "cell_type": "markdown",
      "metadata": {
        "id": "view-in-github",
        "colab_type": "text"
      },
      "source": [
        "<a href=\"https://colab.research.google.com/github/jelly-decoder28/poppy-june/blob/intro_to_AI-programming-course!/Sum_of_Even_numbers_HW.ipynb\" target=\"_parent\"><img src=\"https://colab.research.google.com/assets/colab-badge.svg\" alt=\"Open In Colab\"/></a>"
      ]
    },
    {
      "cell_type": "code",
      "execution_count": 11,
      "metadata": {
        "id": "Dlp6sdrp86jp",
        "colab": {
          "base_uri": "https://localhost:8080/"
        },
        "outputId": "b258b090-9768-450a-a431-d401de575408"
      },
      "outputs": [
        {
          "output_type": "stream",
          "name": "stdout",
          "text": [
            "The sume of even numbers from 1 to 100 is 2550\n"
          ]
        }
      ],
      "source": [
        "#The sum of even numbers between 1 and 100: (for loop)\n",
        "sum_even = 0\n",
        "for number in range(1,101):\n",
        "  if number % 2 == 0:\n",
        "    sum_even += number\n",
        "print(f\"The sume of even numbers from 1 to 100 is {sum_even}\")"
      ]
    },
    {
      "cell_type": "code",
      "source": [],
      "metadata": {
        "id": "iPJJLzC2Bt9-"
      },
      "execution_count": null,
      "outputs": []
    }
  ]
}