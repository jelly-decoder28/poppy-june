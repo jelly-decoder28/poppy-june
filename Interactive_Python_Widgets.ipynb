{
  "nbformat": 4,
  "nbformat_minor": 0,
  "metadata": {
    "colab": {
      "provenance": [],
      "authorship_tag": "ABX9TyNL3K0+/RFCCT/DiHbZ6Edp",
      "include_colab_link": true
    },
    "kernelspec": {
      "name": "python3",
      "display_name": "Python 3"
    },
    "language_info": {
      "name": "python"
    },
    "widgets": {
      "application/vnd.jupyter.widget-state+json": {
        "6fdd585fbd4a4947af1bbda8b46f6a93": {
          "model_module": "@jupyter-widgets/controls",
          "model_name": "FloatSliderModel",
          "model_module_version": "1.5.0",
          "state": {
            "_dom_classes": [],
            "_model_module": "@jupyter-widgets/controls",
            "_model_module_version": "1.5.0",
            "_model_name": "FloatSliderModel",
            "_view_count": null,
            "_view_module": "@jupyter-widgets/controls",
            "_view_module_version": "1.5.0",
            "_view_name": "FloatSliderView",
            "continuous_update": true,
            "description": "Slide Me",
            "description_tooltip": null,
            "disabled": false,
            "layout": "IPY_MODEL_548ad87daec74d6bb43e1373b7341c86",
            "max": 100,
            "min": 0,
            "orientation": "horizontal",
            "readout": true,
            "readout_format": ".2f",
            "step": 5,
            "style": "IPY_MODEL_79ce78b22fca4a79a52249a240575417",
            "value": 100
          }
        },
        "548ad87daec74d6bb43e1373b7341c86": {
          "model_module": "@jupyter-widgets/base",
          "model_name": "LayoutModel",
          "model_module_version": "1.2.0",
          "state": {
            "_model_module": "@jupyter-widgets/base",
            "_model_module_version": "1.2.0",
            "_model_name": "LayoutModel",
            "_view_count": null,
            "_view_module": "@jupyter-widgets/base",
            "_view_module_version": "1.2.0",
            "_view_name": "LayoutView",
            "align_content": null,
            "align_items": null,
            "align_self": null,
            "border": null,
            "bottom": null,
            "display": null,
            "flex": null,
            "flex_flow": null,
            "grid_area": null,
            "grid_auto_columns": null,
            "grid_auto_flow": null,
            "grid_auto_rows": null,
            "grid_column": null,
            "grid_gap": null,
            "grid_row": null,
            "grid_template_areas": null,
            "grid_template_columns": null,
            "grid_template_rows": null,
            "height": null,
            "justify_content": null,
            "justify_items": null,
            "left": null,
            "margin": null,
            "max_height": null,
            "max_width": null,
            "min_height": null,
            "min_width": null,
            "object_fit": null,
            "object_position": null,
            "order": null,
            "overflow": null,
            "overflow_x": null,
            "overflow_y": null,
            "padding": null,
            "right": null,
            "top": null,
            "visibility": null,
            "width": null
          }
        },
        "79ce78b22fca4a79a52249a240575417": {
          "model_module": "@jupyter-widgets/controls",
          "model_name": "SliderStyleModel",
          "model_module_version": "1.5.0",
          "state": {
            "_model_module": "@jupyter-widgets/controls",
            "_model_module_version": "1.5.0",
            "_model_name": "SliderStyleModel",
            "_view_count": null,
            "_view_module": "@jupyter-widgets/base",
            "_view_module_version": "1.2.0",
            "_view_name": "StyleView",
            "description_width": "",
            "handle_color": null
          }
        },
        "199ef4b091a749fa9efbdb6e51a207a4": {
          "model_module": "@jupyter-widgets/controls",
          "model_name": "IntRangeSliderModel",
          "model_module_version": "1.5.0",
          "state": {
            "_dom_classes": [],
            "_model_module": "@jupyter-widgets/controls",
            "_model_module_version": "1.5.0",
            "_model_name": "IntRangeSliderModel",
            "_view_count": null,
            "_view_module": "@jupyter-widgets/controls",
            "_view_module_version": "1.5.0",
            "_view_name": "IntRangeSliderView",
            "continuous_update": true,
            "description": "Range slider (0-100)",
            "description_tooltip": null,
            "disabled": false,
            "layout": "IPY_MODEL_51e38f8afc8144d99bd2be00d61f3c02",
            "max": 100,
            "min": 0,
            "orientation": "horizontal",
            "readout": true,
            "readout_format": "d",
            "step": 10,
            "style": "IPY_MODEL_148b975dc8c3421c9e7981d1cd325348",
            "value": [
              30,
              60
            ]
          }
        },
        "51e38f8afc8144d99bd2be00d61f3c02": {
          "model_module": "@jupyter-widgets/base",
          "model_name": "LayoutModel",
          "model_module_version": "1.2.0",
          "state": {
            "_model_module": "@jupyter-widgets/base",
            "_model_module_version": "1.2.0",
            "_model_name": "LayoutModel",
            "_view_count": null,
            "_view_module": "@jupyter-widgets/base",
            "_view_module_version": "1.2.0",
            "_view_name": "LayoutView",
            "align_content": null,
            "align_items": null,
            "align_self": null,
            "border": null,
            "bottom": null,
            "display": null,
            "flex": null,
            "flex_flow": null,
            "grid_area": null,
            "grid_auto_columns": null,
            "grid_auto_flow": null,
            "grid_auto_rows": null,
            "grid_column": null,
            "grid_gap": null,
            "grid_row": null,
            "grid_template_areas": null,
            "grid_template_columns": null,
            "grid_template_rows": null,
            "height": null,
            "justify_content": null,
            "justify_items": null,
            "left": null,
            "margin": null,
            "max_height": null,
            "max_width": null,
            "min_height": null,
            "min_width": null,
            "object_fit": null,
            "object_position": null,
            "order": null,
            "overflow": null,
            "overflow_x": null,
            "overflow_y": null,
            "padding": null,
            "right": null,
            "top": null,
            "visibility": null,
            "width": null
          }
        },
        "148b975dc8c3421c9e7981d1cd325348": {
          "model_module": "@jupyter-widgets/controls",
          "model_name": "SliderStyleModel",
          "model_module_version": "1.5.0",
          "state": {
            "_model_module": "@jupyter-widgets/controls",
            "_model_module_version": "1.5.0",
            "_model_name": "SliderStyleModel",
            "_view_count": null,
            "_view_module": "@jupyter-widgets/base",
            "_view_module_version": "1.2.0",
            "_view_name": "StyleView",
            "description_width": "",
            "handle_color": null
          }
        },
        "306d725df1404d4091c3670f6076047d": {
          "model_module": "@jupyter-widgets/controls",
          "model_name": "DropdownModel",
          "model_module_version": "1.5.0",
          "state": {
            "_dom_classes": [],
            "_model_module": "@jupyter-widgets/controls",
            "_model_module_version": "1.5.0",
            "_model_name": "DropdownModel",
            "_options_labels": [
              "Scatter Plot",
              "Bar Chart",
              "Line Graph",
              "Pie Chart"
            ],
            "_view_count": null,
            "_view_module": "@jupyter-widgets/controls",
            "_view_module_version": "1.5.0",
            "_view_name": "DropdownView",
            "description": "Chart Type:",
            "description_tooltip": null,
            "disabled": false,
            "index": 0,
            "layout": "IPY_MODEL_c2eb8597136a484e8cb5354d59413fd2",
            "style": "IPY_MODEL_38c11a27aa634efdbc50a0c35311d067"
          }
        },
        "c2eb8597136a484e8cb5354d59413fd2": {
          "model_module": "@jupyter-widgets/base",
          "model_name": "LayoutModel",
          "model_module_version": "1.2.0",
          "state": {
            "_model_module": "@jupyter-widgets/base",
            "_model_module_version": "1.2.0",
            "_model_name": "LayoutModel",
            "_view_count": null,
            "_view_module": "@jupyter-widgets/base",
            "_view_module_version": "1.2.0",
            "_view_name": "LayoutView",
            "align_content": null,
            "align_items": null,
            "align_self": null,
            "border": null,
            "bottom": null,
            "display": null,
            "flex": null,
            "flex_flow": null,
            "grid_area": null,
            "grid_auto_columns": null,
            "grid_auto_flow": null,
            "grid_auto_rows": null,
            "grid_column": null,
            "grid_gap": null,
            "grid_row": null,
            "grid_template_areas": null,
            "grid_template_columns": null,
            "grid_template_rows": null,
            "height": null,
            "justify_content": null,
            "justify_items": null,
            "left": null,
            "margin": null,
            "max_height": null,
            "max_width": null,
            "min_height": null,
            "min_width": null,
            "object_fit": null,
            "object_position": null,
            "order": null,
            "overflow": null,
            "overflow_x": null,
            "overflow_y": null,
            "padding": null,
            "right": null,
            "top": null,
            "visibility": null,
            "width": null
          }
        },
        "38c11a27aa634efdbc50a0c35311d067": {
          "model_module": "@jupyter-widgets/controls",
          "model_name": "DescriptionStyleModel",
          "model_module_version": "1.5.0",
          "state": {
            "_model_module": "@jupyter-widgets/controls",
            "_model_module_version": "1.5.0",
            "_model_name": "DescriptionStyleModel",
            "_view_count": null,
            "_view_module": "@jupyter-widgets/base",
            "_view_module_version": "1.2.0",
            "_view_name": "StyleView",
            "description_width": ""
          }
        },
        "bf2f5d73d7d54a659917e3aa37d432f8": {
          "model_module": "@jupyter-widgets/controls",
          "model_name": "VBoxModel",
          "model_module_version": "1.5.0",
          "state": {
            "_dom_classes": [
              "widget-interact"
            ],
            "_model_module": "@jupyter-widgets/controls",
            "_model_module_version": "1.5.0",
            "_model_name": "VBoxModel",
            "_view_count": null,
            "_view_module": "@jupyter-widgets/controls",
            "_view_module_version": "1.5.0",
            "_view_name": "VBoxView",
            "box_style": "",
            "children": [
              "IPY_MODEL_306d725df1404d4091c3670f6076047d",
              "IPY_MODEL_e9cbe374714f43d3be3879731157b1a4"
            ],
            "layout": "IPY_MODEL_c5edd1c40cf34fd6b5b390272a3ba851"
          }
        },
        "e9cbe374714f43d3be3879731157b1a4": {
          "model_module": "@jupyter-widgets/output",
          "model_name": "OutputModel",
          "model_module_version": "1.0.0",
          "state": {
            "_dom_classes": [],
            "_model_module": "@jupyter-widgets/output",
            "_model_module_version": "1.0.0",
            "_model_name": "OutputModel",
            "_view_count": null,
            "_view_module": "@jupyter-widgets/output",
            "_view_module_version": "1.0.0",
            "_view_name": "OutputView",
            "layout": "IPY_MODEL_751be1d678ba4faaa73f6dc1e86b354a",
            "msg_id": "",
            "outputs": [
              {
                "output_type": "display_data",
                "data": {
                  "text/plain": "<Figure size 800x600 with 1 Axes>",
                  "image/png": "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\n"
                },
                "metadata": {}
              }
            ]
          }
        },
        "c5edd1c40cf34fd6b5b390272a3ba851": {
          "model_module": "@jupyter-widgets/base",
          "model_name": "LayoutModel",
          "model_module_version": "1.2.0",
          "state": {
            "_model_module": "@jupyter-widgets/base",
            "_model_module_version": "1.2.0",
            "_model_name": "LayoutModel",
            "_view_count": null,
            "_view_module": "@jupyter-widgets/base",
            "_view_module_version": "1.2.0",
            "_view_name": "LayoutView",
            "align_content": null,
            "align_items": null,
            "align_self": null,
            "border": null,
            "bottom": null,
            "display": null,
            "flex": null,
            "flex_flow": null,
            "grid_area": null,
            "grid_auto_columns": null,
            "grid_auto_flow": null,
            "grid_auto_rows": null,
            "grid_column": null,
            "grid_gap": null,
            "grid_row": null,
            "grid_template_areas": null,
            "grid_template_columns": null,
            "grid_template_rows": null,
            "height": null,
            "justify_content": null,
            "justify_items": null,
            "left": null,
            "margin": null,
            "max_height": null,
            "max_width": null,
            "min_height": null,
            "min_width": null,
            "object_fit": null,
            "object_position": null,
            "order": null,
            "overflow": null,
            "overflow_x": null,
            "overflow_y": null,
            "padding": null,
            "right": null,
            "top": null,
            "visibility": null,
            "width": null
          }
        },
        "751be1d678ba4faaa73f6dc1e86b354a": {
          "model_module": "@jupyter-widgets/base",
          "model_name": "LayoutModel",
          "model_module_version": "1.2.0",
          "state": {
            "_model_module": "@jupyter-widgets/base",
            "_model_module_version": "1.2.0",
            "_model_name": "LayoutModel",
            "_view_count": null,
            "_view_module": "@jupyter-widgets/base",
            "_view_module_version": "1.2.0",
            "_view_name": "LayoutView",
            "align_content": null,
            "align_items": null,
            "align_self": null,
            "border": null,
            "bottom": null,
            "display": null,
            "flex": null,
            "flex_flow": null,
            "grid_area": null,
            "grid_auto_columns": null,
            "grid_auto_flow": null,
            "grid_auto_rows": null,
            "grid_column": null,
            "grid_gap": null,
            "grid_row": null,
            "grid_template_areas": null,
            "grid_template_columns": null,
            "grid_template_rows": null,
            "height": null,
            "justify_content": null,
            "justify_items": null,
            "left": null,
            "margin": null,
            "max_height": null,
            "max_width": null,
            "min_height": null,
            "min_width": null,
            "object_fit": null,
            "object_position": null,
            "order": null,
            "overflow": null,
            "overflow_x": null,
            "overflow_y": null,
            "padding": null,
            "right": null,
            "top": null,
            "visibility": null,
            "width": null
          }
        }
      }
    }
  },
  "cells": [
    {
      "cell_type": "markdown",
      "metadata": {
        "id": "view-in-github",
        "colab_type": "text"
      },
      "source": [
        "<a href=\"https://colab.research.google.com/github/jelly-decoder28/poppy-june/blob/main/Interactive_Python_Widgets.ipynb\" target=\"_parent\"><img src=\"https://colab.research.google.com/assets/colab-badge.svg\" alt=\"Open In Colab\"/></a>"
      ]
    },
    {
      "cell_type": "code",
      "execution_count": 2,
      "metadata": {
        "id": "q8NLtjJ1jEXN"
      },
      "outputs": [],
      "source": [
        "import ipywidgets as widgets\n",
        "from IPython.display import display"
      ]
    },
    {
      "cell_type": "code",
      "source": [
        "float_slider = widgets.FloatSlider(\n",
        "    value = 5.0, #starting value\n",
        "    min = 0.0,\n",
        "    max = 100.0,\n",
        "    step = 5.0,\n",
        "    description = \"Slide Me\"\n",
        "\n",
        ")\n",
        "\n",
        "display(float_slider)"
      ],
      "metadata": {
        "colab": {
          "base_uri": "https://localhost:8080/",
          "height": 49,
          "referenced_widgets": [
            "6fdd585fbd4a4947af1bbda8b46f6a93",
            "548ad87daec74d6bb43e1373b7341c86",
            "79ce78b22fca4a79a52249a240575417"
          ]
        },
        "id": "G_k1XYFAkNFv",
        "outputId": "16d34542-7a93-42e9-c6ad-59522e7daa2f"
      },
      "execution_count": 3,
      "outputs": [
        {
          "output_type": "display_data",
          "data": {
            "text/plain": [
              "FloatSlider(value=5.0, description='Slide Me', step=5.0)"
            ],
            "application/vnd.jupyter.widget-view+json": {
              "version_major": 2,
              "version_minor": 0,
              "model_id": "6fdd585fbd4a4947af1bbda8b46f6a93"
            }
          },
          "metadata": {}
        }
      ]
    },
    {
      "cell_type": "code",
      "source": [
        "#Integer range slider\n",
        "int_range_slider = widgets.IntRangeSlider(\n",
        "    value=[20,80],\n",
        "    min=0,\n",
        "    max=100,\n",
        "    step=10,\n",
        "    description ='Range slider (0-100)',\n",
        "    orientation = 'horizontal',\n",
        "    readout=True,\n",
        "    readout_format=\"d\"\n",
        "\n",
        ")\n",
        "\n",
        "display(int_range_slider)"
      ],
      "metadata": {
        "colab": {
          "base_uri": "https://localhost:8080/",
          "height": 49,
          "referenced_widgets": [
            "199ef4b091a749fa9efbdb6e51a207a4",
            "51e38f8afc8144d99bd2be00d61f3c02",
            "148b975dc8c3421c9e7981d1cd325348"
          ]
        },
        "id": "3sDzXAYGkhL8",
        "outputId": "18a1c6d6-0260-4965-88a2-1ea1c7895dd3"
      },
      "execution_count": 5,
      "outputs": [
        {
          "output_type": "display_data",
          "data": {
            "text/plain": [
              "IntRangeSlider(value=(20, 80), description='Range slider (0-100)', step=10)"
            ],
            "application/vnd.jupyter.widget-view+json": {
              "version_major": 2,
              "version_minor": 0,
              "model_id": "199ef4b091a749fa9efbdb6e51a207a4"
            }
          },
          "metadata": {}
        }
      ]
    },
    {
      "cell_type": "code",
      "source": [
        "#dropdown menu\n",
        "\n",
        "dropdown_menu = widgets.Dropdown(\n",
        "    options = ['Scatter Plot', 'Bar Chart', 'Line Graph', 'Pie Chart'],\n",
        "    value = 'Scatter Plot', #Initial setting\n",
        "    description = 'Chart Type:',\n",
        ")\n",
        "\n",
        "display(dropdown_menu)"
      ],
      "metadata": {
        "colab": {
          "base_uri": "https://localhost:8080/",
          "height": 49,
          "referenced_widgets": [
            "306d725df1404d4091c3670f6076047d",
            "c2eb8597136a484e8cb5354d59413fd2",
            "38c11a27aa634efdbc50a0c35311d067"
          ]
        },
        "id": "HP0VVlT2lcgk",
        "outputId": "1d6c13db-dbde-4fb8-c0f7-b47a8b825e4a"
      },
      "execution_count": 9,
      "outputs": [
        {
          "output_type": "display_data",
          "data": {
            "text/plain": [
              "Dropdown(description='Chart Type:', options=('Scatter Plot', 'Bar Chart', 'Line Graph', 'Pie Chart'), value='S…"
            ],
            "application/vnd.jupyter.widget-view+json": {
              "version_major": 2,
              "version_minor": 0,
              "model_id": "306d725df1404d4091c3670f6076047d"
            }
          },
          "metadata": {}
        }
      ]
    },
    {
      "cell_type": "code",
      "source": [
        "import matplotlib.pyplot as plt\n",
        "#Hardcoding data\n",
        "x=[1, 2, 3, 4, 5]\n",
        "y=[10, 20, 30, 40, 50]\n",
        "def show_chart_type (choice):\n",
        "  plt.figure(figsize=(8,6)) #sets canvas size\n",
        "  if(choice=='Scatter Plot'):\n",
        "    plt.scatter(x,y)\n",
        "  if(choice == 'Bar Chart'):\n",
        "    plt.bar(x,y)\n",
        "  elif(choice == 'Line Graph'):\n",
        "    plt.plot(x,y)\n",
        "  elif(choice == 'Pie Chart'):\n",
        "    plt.pie(x, labels = y, autopct='%1.1f%%')\n",
        "  plt.title(choice)\n",
        "  plt.show()\n",
        "\n",
        "widgets.interact(show_chart_type, choice = dropdown_menu)"
      ],
      "metadata": {
        "colab": {
          "base_uri": "https://localhost:8080/",
          "height": 634,
          "referenced_widgets": [
            "bf2f5d73d7d54a659917e3aa37d432f8",
            "306d725df1404d4091c3670f6076047d",
            "e9cbe374714f43d3be3879731157b1a4",
            "c5edd1c40cf34fd6b5b390272a3ba851",
            "c2eb8597136a484e8cb5354d59413fd2",
            "38c11a27aa634efdbc50a0c35311d067",
            "751be1d678ba4faaa73f6dc1e86b354a"
          ]
        },
        "id": "byT-wjY6mfVH",
        "outputId": "8801def3-5248-4e86-e9b1-5bba3968f7ea"
      },
      "execution_count": 11,
      "outputs": [
        {
          "output_type": "display_data",
          "data": {
            "text/plain": [
              "interactive(children=(Dropdown(description='Chart Type:', options=('Scatter Plot', 'Bar Chart', 'Line Graph', …"
            ],
            "application/vnd.jupyter.widget-view+json": {
              "version_major": 2,
              "version_minor": 0,
              "model_id": "bf2f5d73d7d54a659917e3aa37d432f8"
            }
          },
          "metadata": {}
        },
        {
          "output_type": "execute_result",
          "data": {
            "text/plain": [
              "<function __main__.show_chart_type(choice)>"
            ],
            "text/html": [
              "<div style=\"max-width:800px; border: 1px solid var(--colab-border-color);\"><style>\n",
              "      pre.function-repr-contents {\n",
              "        overflow-x: auto;\n",
              "        padding: 8px 12px;\n",
              "        max-height: 500px;\n",
              "      }\n",
              "\n",
              "      pre.function-repr-contents.function-repr-contents-collapsed {\n",
              "        cursor: pointer;\n",
              "        max-height: 100px;\n",
              "      }\n",
              "    </style>\n",
              "    <pre style=\"white-space: initial; background:\n",
              "         var(--colab-secondary-surface-color); padding: 8px 12px;\n",
              "         border-bottom: 1px solid var(--colab-border-color);\"><b>show_chart_type</b><br/>def show_chart_type(choice)</pre><pre class=\"function-repr-contents function-repr-contents-collapsed\" style=\"\"><a class=\"filepath\" style=\"display:none\" href=\"#\">/content/&lt;ipython-input-11-505d3ed4475e&gt;</a>&lt;no docstring&gt;</pre></div>"
            ]
          },
          "metadata": {},
          "execution_count": 11
        }
      ]
    }
  ]
}