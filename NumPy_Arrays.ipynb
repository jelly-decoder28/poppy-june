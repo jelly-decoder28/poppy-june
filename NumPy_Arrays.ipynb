{
  "nbformat": 4,
  "nbformat_minor": 0,
  "metadata": {
    "colab": {
      "provenance": [],
      "authorship_tag": "ABX9TyPay8cqqjz3sqI7fMsnVoYa",
      "include_colab_link": true
    },
    "kernelspec": {
      "name": "python3",
      "display_name": "Python 3"
    },
    "language_info": {
      "name": "python"
    }
  },
  "cells": [
    {
      "cell_type": "markdown",
      "metadata": {
        "id": "view-in-github",
        "colab_type": "text"
      },
      "source": [
        "<a href=\"https://colab.research.google.com/github/jelly-decoder28/poppy-june/blob/main/NumPy_Arrays.ipynb\" target=\"_parent\"><img src=\"https://colab.research.google.com/assets/colab-badge.svg\" alt=\"Open In Colab\"/></a>"
      ]
    },
    {
      "cell_type": "markdown",
      "source": [
        "NumPy handles array manipulation, random numbers, and statistics\n",
        "\n",
        "3D arrays: tensor (matrices 1,2,3,4)"
      ],
      "metadata": {
        "id": "NmjFD9APY-5T"
      }
    },
    {
      "cell_type": "code",
      "execution_count": 4,
      "metadata": {
        "colab": {
          "base_uri": "https://localhost:8080/"
        },
        "id": "z9VREWO0Vu28",
        "outputId": "c113d316-71a7-4170-f573-c5d7f55218f7"
      },
      "outputs": [
        {
          "output_type": "stream",
          "name": "stdout",
          "text": [
            "1D Array [1 2 3 4 5]\n",
            "Shape:(5,)\n"
          ]
        }
      ],
      "source": [
        "import numpy as np #import library to use function\n",
        "v = np.array([1, 2, 3, 4, 5])\n",
        "print(\"1D Array\", v)\n",
        "print(f\"Shape:{v.shape}\")"
      ]
    },
    {
      "cell_type": "code",
      "source": [
        "A = np.array ([[1,2,3], [4,5,6],[7,8,9]])\n",
        "print(\"2D Array\")\n",
        "print(A)\n",
        "print(f\"Shape:{A.shape}\")"
      ],
      "metadata": {
        "colab": {
          "base_uri": "https://localhost:8080/"
        },
        "id": "PAbyI-QkaN9F",
        "outputId": "806d27fb-77c3-414a-eb34-50596c7e87e5"
      },
      "execution_count": 5,
      "outputs": [
        {
          "output_type": "stream",
          "name": "stdout",
          "text": [
            "2D Array\n",
            "[[1 2 3]\n",
            " [4 5 6]\n",
            " [7 8 9]]\n",
            "Shape:(3, 3)\n"
          ]
        }
      ]
    },
    {
      "cell_type": "code",
      "source": [
        "T = np.array([[[1,2], [3,4]],\n",
        "             [[5,6],[7,8]],\n",
        "             [[9,10],[11,12]]]) #dimensions --> stacks\n",
        "print(\"3D array (Tensor): \")\n",
        "print(T)\n",
        "print(f\"Shape: {T.shape}\")"
      ],
      "metadata": {
        "colab": {
          "base_uri": "https://localhost:8080/"
        },
        "id": "zubUx41zbp17",
        "outputId": "71f6f339-12c9-4c13-ec16-bfc10f48360d"
      },
      "execution_count": 8,
      "outputs": [
        {
          "output_type": "stream",
          "name": "stdout",
          "text": [
            "3D array (Tensor): \n",
            "[[[ 1  2]\n",
            "  [ 3  4]]\n",
            "\n",
            " [[ 5  6]\n",
            "  [ 7  8]]\n",
            "\n",
            " [[ 9 10]\n",
            "  [11 12]]]\n",
            "Shape: (3, 2, 2)\n"
          ]
        }
      ]
    }
  ]
}